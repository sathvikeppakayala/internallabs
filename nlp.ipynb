{
  "nbformat": 4,
  "nbformat_minor": 0,
  "metadata": {
    "colab": {
      "provenance": []
    },
    "kernelspec": {
      "name": "python3",
      "display_name": "Python 3"
    },
    "language_info": {
      "name": "python"
    }
  },
  "cells": [
    {
      "cell_type": "code",
      "execution_count": 3,
      "metadata": {
        "colab": {
          "base_uri": "https://localhost:8080/"
        },
        "id": "B9myhICWNGka",
        "outputId": "525608cc-6dea-466f-e408-ffe18088fdb4"
      },
      "outputs": [
        {
          "output_type": "stream",
          "name": "stderr",
          "text": [
            "[nltk_data] Downloading package punkt_tab to /root/nltk_data...\n",
            "[nltk_data]   Package punkt_tab is already up-to-date!\n",
            "[nltk_data] Downloading package wordnet to /root/nltk_data...\n"
          ]
        },
        {
          "output_type": "stream",
          "name": "stdout",
          "text": [
            "['hello world i am going outside for playing cricket']\n",
            "['hello', 'world', 'i', 'am', 'going', 'outside', 'for', 'playing', 'cricket']\n",
            "hello\n",
            "world\n",
            "i\n",
            "am\n",
            "go\n",
            "outsid\n",
            "for\n",
            "play\n",
            "cricket\n",
            "hello\n",
            "world\n",
            "i\n",
            "am\n",
            "going\n",
            "outside\n",
            "for\n",
            "playing\n",
            "cricket\n",
            "hello\n",
            "world\n",
            "going\n",
            "outside\n",
            "playing\n",
            "cricket\n"
          ]
        },
        {
          "output_type": "stream",
          "name": "stderr",
          "text": [
            "[nltk_data] Downloading package stopwords to /root/nltk_data...\n",
            "[nltk_data]   Unzipping corpora/stopwords.zip.\n"
          ]
        }
      ],
      "source": [
        "# Implementation of Tokenization, Lemmatization, Stemming and stopwords\n",
        "import nltk\n",
        "nltk.download('punkt_tab')\n",
        "data = \"hello world i am going outside for playing cricket\"\n",
        "sent_tokens = nltk.sent_tokenize(data)\n",
        "print(sent_tokens)\n",
        "word_tokens = nltk.word_tokenize(data)\n",
        "print(word_tokens)\n",
        "#stemming\n",
        "from nltk.stem import PorterStemmer\n",
        "stemmer = PorterStemmer()\n",
        "for word in word_tokens:\n",
        "  print(stemmer.stem(word))\n",
        "#lemmatization\n",
        "from nltk.stem import WordNetLemmatizer\n",
        "nltk.download('wordnet')\n",
        "lemmatizer = WordNetLemmatizer()\n",
        "for word in word_tokens:\n",
        "  print(lemmatizer.lemmatize(word))\n",
        "#stopwords\n",
        "from nltk.corpus import stopwords\n",
        "nltk.download('stopwords')\n",
        "stop_words = set(stopwords.words('english'))\n",
        "for word in word_tokens:\n",
        "  if word not in stop_words:\n",
        "    print(word)\n",
        "\n"
      ]
    },
    {
      "cell_type": "code",
      "source": [
        "# Implement Custom Spell Checker\n",
        "!pip install spello\n",
        "from spello.model import SpellCorrectionModel\n",
        "model = SpellCorrectionModel(language='en')\n",
        "with open ('word.txt', 'r') as file:\n",
        "  data = file.readlines()\n",
        "  for words in data:\n",
        "    model.train([words.strip()])\n"
      ],
      "metadata": {
        "colab": {
          "base_uri": "https://localhost:8080/",
          "height": 315
        },
        "id": "gpWA8xHqN3Dx",
        "outputId": "bba4077f-4c5b-402b-a955-2c2adecf891f"
      },
      "execution_count": 5,
      "outputs": [
        {
          "output_type": "stream",
          "name": "stdout",
          "text": [
            "Requirement already satisfied: spello in /usr/local/lib/python3.11/dist-packages (1.3.0)\n",
            "Requirement already satisfied: nltk<4,>=3.4.5 in /usr/local/lib/python3.11/dist-packages (from spello) (3.9.1)\n",
            "Requirement already satisfied: click in /usr/local/lib/python3.11/dist-packages (from nltk<4,>=3.4.5->spello) (8.1.8)\n",
            "Requirement already satisfied: joblib in /usr/local/lib/python3.11/dist-packages (from nltk<4,>=3.4.5->spello) (1.4.2)\n",
            "Requirement already satisfied: regex>=2021.8.3 in /usr/local/lib/python3.11/dist-packages (from nltk<4,>=3.4.5->spello) (2024.11.6)\n",
            "Requirement already satisfied: tqdm in /usr/local/lib/python3.11/dist-packages (from nltk<4,>=3.4.5->spello) (4.67.1)\n"
          ]
        },
        {
          "output_type": "error",
          "ename": "FileNotFoundError",
          "evalue": "[Errno 2] No such file or directory: 'word.txt'",
          "traceback": [
            "\u001b[0;31m---------------------------------------------------------------------------\u001b[0m",
            "\u001b[0;31mFileNotFoundError\u001b[0m                         Traceback (most recent call last)",
            "\u001b[0;32m<ipython-input-5-c249a134ebef>\u001b[0m in \u001b[0;36m<cell line: 0>\u001b[0;34m()\u001b[0m\n\u001b[1;32m      3\u001b[0m \u001b[0;32mfrom\u001b[0m \u001b[0mspello\u001b[0m\u001b[0;34m.\u001b[0m\u001b[0mmodel\u001b[0m \u001b[0;32mimport\u001b[0m \u001b[0mSpellCorrectionModel\u001b[0m\u001b[0;34m\u001b[0m\u001b[0;34m\u001b[0m\u001b[0m\n\u001b[1;32m      4\u001b[0m \u001b[0mmodel\u001b[0m \u001b[0;34m=\u001b[0m \u001b[0mSpellCorrectionModel\u001b[0m\u001b[0;34m(\u001b[0m\u001b[0mlanguage\u001b[0m\u001b[0;34m=\u001b[0m\u001b[0;34m'en'\u001b[0m\u001b[0;34m)\u001b[0m\u001b[0;34m\u001b[0m\u001b[0;34m\u001b[0m\u001b[0m\n\u001b[0;32m----> 5\u001b[0;31m \u001b[0;32mwith\u001b[0m \u001b[0mopen\u001b[0m \u001b[0;34m(\u001b[0m\u001b[0;34m'word.txt'\u001b[0m\u001b[0;34m,\u001b[0m \u001b[0;34m'r'\u001b[0m\u001b[0;34m)\u001b[0m \u001b[0;32mas\u001b[0m \u001b[0mfile\u001b[0m\u001b[0;34m:\u001b[0m\u001b[0;34m\u001b[0m\u001b[0;34m\u001b[0m\u001b[0m\n\u001b[0m\u001b[1;32m      6\u001b[0m   \u001b[0mdata\u001b[0m \u001b[0;34m=\u001b[0m \u001b[0mfile\u001b[0m\u001b[0;34m.\u001b[0m\u001b[0mreadlines\u001b[0m\u001b[0;34m(\u001b[0m\u001b[0;34m)\u001b[0m\u001b[0;34m\u001b[0m\u001b[0;34m\u001b[0m\u001b[0m\n\u001b[1;32m      7\u001b[0m   \u001b[0;32mfor\u001b[0m \u001b[0mwords\u001b[0m \u001b[0;32min\u001b[0m \u001b[0mdata\u001b[0m\u001b[0;34m:\u001b[0m\u001b[0;34m\u001b[0m\u001b[0;34m\u001b[0m\u001b[0m\n",
            "\u001b[0;31mFileNotFoundError\u001b[0m: [Errno 2] No such file or directory: 'word.txt'"
          ]
        }
      ]
    },
    {
      "cell_type": "code",
      "source": [
        "# Implement Word Segmentation and Sentence Segmentation\n",
        "!pip install spacy\n",
        "import spacy\n",
        "spacy.cli.download(\"en_core_web_sm\")\n",
        "nlp = spacy.load('en_core_web_sm')\n",
        "doc = nlp(\"hello world i am going outside for playing cricket\")\n",
        "for token in doc.sents:\n",
        "  print(token.text)\n",
        "from nltk.tokenize import word_tokenize\n",
        "from nltk.probability import FreqDist\n",
        "text = \"hello world i am going outside for playing cricket\"\n",
        "words = word_tokenize(text)\n",
        "word_freq = FreqDist(words)\n",
        "print(word_freq)\n",
        "print(\"Frequency of word is in text is\", word_freq.freq('is'))\n",
        "import matplotlib.pyplot as plt\n",
        "plt.bar(word_freq.keys(), word_freq.values())\n",
        "plt.show()\n",
        "\n"
      ],
      "metadata": {
        "colab": {
          "base_uri": "https://localhost:8080/",
          "height": 1000
        },
        "id": "exBMEo8OXepQ",
        "outputId": "7d14d87f-dad3-4708-8159-cec67c316d0b"
      },
      "execution_count": 7,
      "outputs": [
        {
          "output_type": "stream",
          "name": "stdout",
          "text": [
            "Requirement already satisfied: spacy in /usr/local/lib/python3.11/dist-packages (3.8.4)\n",
            "Requirement already satisfied: spacy-legacy<3.1.0,>=3.0.11 in /usr/local/lib/python3.11/dist-packages (from spacy) (3.0.12)\n",
            "Requirement already satisfied: spacy-loggers<2.0.0,>=1.0.0 in /usr/local/lib/python3.11/dist-packages (from spacy) (1.0.5)\n",
            "Requirement already satisfied: murmurhash<1.1.0,>=0.28.0 in /usr/local/lib/python3.11/dist-packages (from spacy) (1.0.12)\n",
            "Requirement already satisfied: cymem<2.1.0,>=2.0.2 in /usr/local/lib/python3.11/dist-packages (from spacy) (2.0.11)\n",
            "Requirement already satisfied: preshed<3.1.0,>=3.0.2 in /usr/local/lib/python3.11/dist-packages (from spacy) (3.0.9)\n",
            "Requirement already satisfied: thinc<8.4.0,>=8.3.4 in /usr/local/lib/python3.11/dist-packages (from spacy) (8.3.4)\n",
            "Requirement already satisfied: wasabi<1.2.0,>=0.9.1 in /usr/local/lib/python3.11/dist-packages (from spacy) (1.1.3)\n",
            "Requirement already satisfied: srsly<3.0.0,>=2.4.3 in /usr/local/lib/python3.11/dist-packages (from spacy) (2.5.1)\n",
            "Requirement already satisfied: catalogue<2.1.0,>=2.0.6 in /usr/local/lib/python3.11/dist-packages (from spacy) (2.0.10)\n",
            "Requirement already satisfied: weasel<0.5.0,>=0.1.0 in /usr/local/lib/python3.11/dist-packages (from spacy) (0.4.1)\n",
            "Requirement already satisfied: typer<1.0.0,>=0.3.0 in /usr/local/lib/python3.11/dist-packages (from spacy) (0.15.2)\n",
            "Requirement already satisfied: tqdm<5.0.0,>=4.38.0 in /usr/local/lib/python3.11/dist-packages (from spacy) (4.67.1)\n",
            "Requirement already satisfied: numpy>=1.19.0 in /usr/local/lib/python3.11/dist-packages (from spacy) (2.0.2)\n",
            "Requirement already satisfied: requests<3.0.0,>=2.13.0 in /usr/local/lib/python3.11/dist-packages (from spacy) (2.32.3)\n",
            "Requirement already satisfied: pydantic!=1.8,!=1.8.1,<3.0.0,>=1.7.4 in /usr/local/lib/python3.11/dist-packages (from spacy) (2.10.6)\n",
            "Requirement already satisfied: jinja2 in /usr/local/lib/python3.11/dist-packages (from spacy) (3.1.6)\n",
            "Requirement already satisfied: setuptools in /usr/local/lib/python3.11/dist-packages (from spacy) (75.1.0)\n",
            "Requirement already satisfied: packaging>=20.0 in /usr/local/lib/python3.11/dist-packages (from spacy) (24.2)\n",
            "Requirement already satisfied: langcodes<4.0.0,>=3.2.0 in /usr/local/lib/python3.11/dist-packages (from spacy) (3.5.0)\n",
            "Requirement already satisfied: language-data>=1.2 in /usr/local/lib/python3.11/dist-packages (from langcodes<4.0.0,>=3.2.0->spacy) (1.3.0)\n",
            "Requirement already satisfied: annotated-types>=0.6.0 in /usr/local/lib/python3.11/dist-packages (from pydantic!=1.8,!=1.8.1,<3.0.0,>=1.7.4->spacy) (0.7.0)\n",
            "Requirement already satisfied: pydantic-core==2.27.2 in /usr/local/lib/python3.11/dist-packages (from pydantic!=1.8,!=1.8.1,<3.0.0,>=1.7.4->spacy) (2.27.2)\n",
            "Requirement already satisfied: typing-extensions>=4.12.2 in /usr/local/lib/python3.11/dist-packages (from pydantic!=1.8,!=1.8.1,<3.0.0,>=1.7.4->spacy) (4.12.2)\n",
            "Requirement already satisfied: charset-normalizer<4,>=2 in /usr/local/lib/python3.11/dist-packages (from requests<3.0.0,>=2.13.0->spacy) (3.4.1)\n",
            "Requirement already satisfied: idna<4,>=2.5 in /usr/local/lib/python3.11/dist-packages (from requests<3.0.0,>=2.13.0->spacy) (3.10)\n",
            "Requirement already satisfied: urllib3<3,>=1.21.1 in /usr/local/lib/python3.11/dist-packages (from requests<3.0.0,>=2.13.0->spacy) (2.3.0)\n",
            "Requirement already satisfied: certifi>=2017.4.17 in /usr/local/lib/python3.11/dist-packages (from requests<3.0.0,>=2.13.0->spacy) (2025.1.31)\n",
            "Requirement already satisfied: blis<1.3.0,>=1.2.0 in /usr/local/lib/python3.11/dist-packages (from thinc<8.4.0,>=8.3.4->spacy) (1.2.0)\n",
            "Requirement already satisfied: confection<1.0.0,>=0.0.1 in /usr/local/lib/python3.11/dist-packages (from thinc<8.4.0,>=8.3.4->spacy) (0.1.5)\n",
            "Requirement already satisfied: click>=8.0.0 in /usr/local/lib/python3.11/dist-packages (from typer<1.0.0,>=0.3.0->spacy) (8.1.8)\n",
            "Requirement already satisfied: shellingham>=1.3.0 in /usr/local/lib/python3.11/dist-packages (from typer<1.0.0,>=0.3.0->spacy) (1.5.4)\n",
            "Requirement already satisfied: rich>=10.11.0 in /usr/local/lib/python3.11/dist-packages (from typer<1.0.0,>=0.3.0->spacy) (13.9.4)\n",
            "Requirement already satisfied: cloudpathlib<1.0.0,>=0.7.0 in /usr/local/lib/python3.11/dist-packages (from weasel<0.5.0,>=0.1.0->spacy) (0.21.0)\n",
            "Requirement already satisfied: smart-open<8.0.0,>=5.2.1 in /usr/local/lib/python3.11/dist-packages (from weasel<0.5.0,>=0.1.0->spacy) (7.1.0)\n",
            "Requirement already satisfied: MarkupSafe>=2.0 in /usr/local/lib/python3.11/dist-packages (from jinja2->spacy) (3.0.2)\n",
            "Requirement already satisfied: marisa-trie>=1.1.0 in /usr/local/lib/python3.11/dist-packages (from language-data>=1.2->langcodes<4.0.0,>=3.2.0->spacy) (1.2.1)\n",
            "Requirement already satisfied: markdown-it-py>=2.2.0 in /usr/local/lib/python3.11/dist-packages (from rich>=10.11.0->typer<1.0.0,>=0.3.0->spacy) (3.0.0)\n",
            "Requirement already satisfied: pygments<3.0.0,>=2.13.0 in /usr/local/lib/python3.11/dist-packages (from rich>=10.11.0->typer<1.0.0,>=0.3.0->spacy) (2.18.0)\n",
            "Requirement already satisfied: wrapt in /usr/local/lib/python3.11/dist-packages (from smart-open<8.0.0,>=5.2.1->weasel<0.5.0,>=0.1.0->spacy) (1.17.2)\n",
            "Requirement already satisfied: mdurl~=0.1 in /usr/local/lib/python3.11/dist-packages (from markdown-it-py>=2.2.0->rich>=10.11.0->typer<1.0.0,>=0.3.0->spacy) (0.1.2)\n",
            "\u001b[38;5;2m✔ Download and installation successful\u001b[0m\n",
            "You can now load the package via spacy.load('en_core_web_sm')\n",
            "\u001b[38;5;3m⚠ Restart to reload dependencies\u001b[0m\n",
            "If you are in a Jupyter or Colab notebook, you may need to restart Python in\n",
            "order to load all the package's dependencies. You can do this by selecting the\n",
            "'Restart kernel' or 'Restart runtime' option.\n",
            "hello world i am going outside for playing cricket\n",
            "<FreqDist with 9 samples and 9 outcomes>\n",
            "Frequency of word is in text is 0.0\n"
          ]
        },
        {
          "output_type": "display_data",
          "data": {
            "text/plain": [
              "<Figure size 640x480 with 1 Axes>"
            ],
            "image/png": "[encoded data removed]"
          },
          "metadata": {}
        }
      ]
    },
    {
      "cell_type": "code",
      "source": [
        "# Implementation of CountVectorizer\n",
        "from sklearn.feature_extraction.text import CountVectorizer\n",
        "corpus  = ['this is RVRJC', 'This is Guntur', 'This is Warangal']\n",
        "print(corpus)\n",
        "vect = CountVectorizer()\n",
        "vect.fit(corpus)\n",
        "x = vect.fit_transform(corpus)\n",
        "print(x)\n",
        "text = ['This is My world !!!']\n",
        "bi_gram = CountVectorizer(ngram_range = (2, 2))\n",
        "print(bi_gram.fit_transform(text))\n",
        "print(bi_gram.vocabulary_)\n",
        "text = ['This is my New World !!']\n",
        "tri_gram = CountVectorizer(ngram_range = (3, 3))\n",
        "print(tri_gram.fit_transform(text))\n",
        "print(tri_gram.vocabulary_)\n",
        "text = [\"Hello World !!, This is Chief....\"]\n",
        "tri_gram = CountVectorizer(ngram_range = (1, 3))\n",
        "print(tri_gram.fit_transform(text))\n",
        "print(tri_gram.vocabulary_)"
      ],
      "metadata": {
        "colab": {
          "base_uri": "https://localhost:8080/"
        },
        "id": "PvQhwLgwZbre",
        "outputId": "c8947350-6634-4c5e-fe00-d4d670bafd1e"
      },
      "execution_count": 9,
      "outputs": [
        {
          "output_type": "stream",
          "name": "stdout",
          "text": [
            "['this is RVRJC', 'This is Guntur', 'This is Warangal']\n",
            "<Compressed Sparse Row sparse matrix of dtype 'int64'\n",
            "\twith 9 stored elements and shape (3, 5)>\n",
            "  Coords\tValues\n",
            "  (0, 3)\t1\n",
            "  (0, 1)\t1\n",
            "  (0, 2)\t1\n",
            "  (1, 3)\t1\n",
            "  (1, 1)\t1\n",
            "  (1, 0)\t1\n",
            "  (2, 3)\t1\n",
            "  (2, 1)\t1\n",
            "  (2, 4)\t1\n",
            "<Compressed Sparse Row sparse matrix of dtype 'int64'\n",
            "\twith 3 stored elements and shape (1, 3)>\n",
            "  Coords\tValues\n",
            "  (0, 2)\t1\n",
            "  (0, 0)\t1\n",
            "  (0, 1)\t1\n",
            "{'this is': 2, 'is my': 0, 'my world': 1}\n",
            "<Compressed Sparse Row sparse matrix of dtype 'int64'\n",
            "\twith 3 stored elements and shape (1, 3)>\n",
            "  Coords\tValues\n",
            "  (0, 2)\t1\n",
            "  (0, 0)\t1\n",
            "  (0, 1)\t1\n",
            "{'this is my': 2, 'is my new': 0, 'my new world': 1}\n",
            "<Compressed Sparse Row sparse matrix of dtype 'int64'\n",
            "\twith 12 stored elements and shape (1, 12)>\n",
            "  Coords\tValues\n",
            "  (0, 1)\t1\n",
            "  (0, 9)\t1\n",
            "  (0, 6)\t1\n",
            "  (0, 4)\t1\n",
            "  (0, 0)\t1\n",
            "  (0, 2)\t1\n",
            "  (0, 10)\t1\n",
            "  (0, 7)\t1\n",
            "  (0, 5)\t1\n",
            "  (0, 3)\t1\n",
            "  (0, 11)\t1\n",
            "  (0, 8)\t1\n",
            "{'hello': 1, 'world': 9, 'this': 6, 'is': 4, 'chief': 0, 'hello world': 2, 'world this': 10, 'this is': 7, 'is chief': 5, 'hello world this': 3, 'world this is': 11, 'this is chief': 8}\n"
          ]
        }
      ]
    },
    {
      "cell_type": "code",
      "source": [
        "# Implementing Bag of Words and PoS tagging\n",
        "from sklearn.feature_extraction.text import CountVectorizer\n",
        "text = [\"hello world i am going outside for playing cricket\"]\n",
        "vect = CountVectorizer()\n",
        "vect.fit(text)\n",
        "x = vect.fit_transform(text)\n",
        "print(x)\n",
        "print(vect.vocabulary_)\n",
        "t = [\"I love NLP\"]\n",
        "vect.fit(t)\n",
        "y = vect.fit_transform(t)\n",
        "print(y)\n",
        "print(vect.vocabulary_)\n",
        "x = vect.fit_transform(text + t)\n",
        "print(vect.transform(t).toarray())\n",
        "print(vect.vocabulary_)\n",
        "import spacy\n",
        "nlp = spacy.load('en_core_web_sm')\n",
        "doc = nlp(\"hello world i am going outside for playing cricket\")\n",
        "for token in doc:\n",
        "  print(token.text, token.pos_)"
      ],
      "metadata": {
        "colab": {
          "base_uri": "https://localhost:8080/"
        },
        "id": "e3Zrvix3anI4",
        "outputId": "1457a02d-6fb4-4bd6-a44d-46ead404f3f1"
      },
      "execution_count": 11,
      "outputs": [
        {
          "output_type": "stream",
          "name": "stdout",
          "text": [
            "<Compressed Sparse Row sparse matrix of dtype 'int64'\n",
            "\twith 8 stored elements and shape (1, 8)>\n",
            "  Coords\tValues\n",
            "  (0, 4)\t1\n",
            "  (0, 7)\t1\n",
            "  (0, 0)\t1\n",
            "  (0, 3)\t1\n",
            "  (0, 5)\t1\n",
            "  (0, 2)\t1\n",
            "  (0, 6)\t1\n",
            "  (0, 1)\t1\n",
            "{'hello': 4, 'world': 7, 'am': 0, 'going': 3, 'outside': 5, 'for': 2, 'playing': 6, 'cricket': 1}\n",
            "<Compressed Sparse Row sparse matrix of dtype 'int64'\n",
            "\twith 2 stored elements and shape (1, 2)>\n",
            "  Coords\tValues\n",
            "  (0, 0)\t1\n",
            "  (0, 1)\t1\n",
            "{'love': 0, 'nlp': 1}\n",
            "[[0 0 0 0 0 1 1 0 0 0]]\n",
            "{'hello': 4, 'world': 9, 'am': 0, 'going': 3, 'outside': 7, 'for': 2, 'playing': 8, 'cricket': 1, 'love': 5, 'nlp': 6}\n",
            "hello INTJ\n",
            "world NOUN\n",
            "i PRON\n",
            "am AUX\n",
            "going VERB\n",
            "outside ADV\n",
            "for ADP\n",
            "playing VERB\n",
            "cricket NOUN\n"
          ]
        }
      ]
    },
    {
      "cell_type": "code",
      "source": [
        "# Implementation of Multiword Expression\n",
        "import nltk\n",
        "from nltk.tokenize import MWETokenizer, word_tokenize\n",
        "m = MWETokenizer([('Hong', 'Kong'), ('takes', 'off')], separator = ' - ')\n",
        "t1 = \"The City in China is Hong Kong\"\n",
        "t2 = \"The Fligh takes off from Hong Kong to India\"\n",
        "print(m.tokenize(word_tokenize(t1)))\n",
        "print(m.tokenize(word_tokenize(t2)))"
      ],
      "metadata": {
        "colab": {
          "base_uri": "https://localhost:8080/"
        },
        "id": "rdALgZwscEe8",
        "outputId": "c93e402a-6cea-477c-d3ed-78551515da11"
      },
      "execution_count": 15,
      "outputs": [
        {
          "output_type": "stream",
          "name": "stdout",
          "text": [
            "['The', 'City', 'in', 'China', 'is', 'Hong - Kong']\n",
            "['The', 'Fligh', 'takes - off', 'from', 'Hong - Kong', 'to', 'India']\n"
          ]
        }
      ]
    },
    {
      "cell_type": "code",
      "source": [
        "# Implementation of Cleaning Functions\n",
        "!pip install clean_text\n",
        "from cleantext import clean\n",
        "s1 = 'CSE-DS'\n",
        "print(clean(s1, fix_unicode = True))\n",
        "s2 = 'k\\0047\\ttg\\eccv\\3232'\n",
        "print(clean(s2, to_ascii = True))\n"
      ],
      "metadata": {
        "colab": {
          "base_uri": "https://localhost:8080/"
        },
        "id": "lfiWlTleeTxv",
        "outputId": "a8613512-2484-4794-eab8-8f0b9c86d3c6"
      },
      "execution_count": 19,
      "outputs": [
        {
          "output_type": "stream",
          "name": "stdout",
          "text": [
            "Requirement already satisfied: clean_text in /usr/local/lib/python3.11/dist-packages (0.6.0)\n",
            "Requirement already satisfied: emoji<2.0.0,>=1.0.0 in /usr/local/lib/python3.11/dist-packages (from clean_text) (1.7.0)\n",
            "Requirement already satisfied: ftfy<7.0,>=6.0 in /usr/local/lib/python3.11/dist-packages (from clean_text) (6.3.1)\n",
            "Requirement already satisfied: wcwidth in /usr/local/lib/python3.11/dist-packages (from ftfy<7.0,>=6.0->clean_text) (0.2.13)\n",
            "cse-ds\n",
            "k7 tg\\eccvo2\n"
          ]
        }
      ]
    },
    {
      "cell_type": "code",
      "source": [
        "# Implement TF-IDF\n",
        "import pandas as pd\n",
        "from sklearn.feature_extraction.text import TfidfVectorizer\n",
        "vect = TfidfVectorizer()\n",
        "text = [\"hello world i am going outside for playing cricket\"]\n",
        "vect.fit(text)\n",
        "x = vect.fit_transform(text)\n",
        "print(x)\n",
        "print(vect.vocabulary_)\n",
        "print(vect.get_feature_names_out)\n",
        "matrix = pd.DataFrame(x.toarray(), columns = vect.get_feature_names_out())\n",
        "matrix"
      ],
      "metadata": {
        "colab": {
          "base_uri": "https://localhost:8080/",
          "height": 315
        },
        "id": "k-2F3WG4feJs",
        "outputId": "0365e275-3226-48e0-ea08-de7ac70f60af"
      },
      "execution_count": 24,
      "outputs": [
        {
          "output_type": "stream",
          "name": "stdout",
          "text": [
            "<Compressed Sparse Row sparse matrix of dtype 'float64'\n",
            "\twith 8 stored elements and shape (1, 8)>\n",
            "  Coords\tValues\n",
            "  (0, 4)\t0.35355339059327373\n",
            "  (0, 7)\t0.35355339059327373\n",
            "  (0, 0)\t0.35355339059327373\n",
            "  (0, 3)\t0.35355339059327373\n",
            "  (0, 5)\t0.35355339059327373\n",
            "  (0, 2)\t0.35355339059327373\n",
            "  (0, 6)\t0.35355339059327373\n",
            "  (0, 1)\t0.35355339059327373\n",
            "{'hello': 4, 'world': 7, 'am': 0, 'going': 3, 'outside': 5, 'for': 2, 'playing': 6, 'cricket': 1}\n",
            "<bound method CountVectorizer.get_feature_names_out of TfidfVectorizer()>\n"
          ]
        },
        {
          "output_type": "execute_result",
          "data": {
            "text/plain": [
              "         am   cricket       for     going     hello   outside   playing  \\\n",
              "0  0.353553  0.353553  0.353553  0.353553  0.353553  0.353553  0.353553   \n",
              "\n",
              "      world  \n",
              "0  0.353553  "
            ],
            "text/html": [
              "\n",
              "  <div id=\"df-4a625037-c9ae-438f-8018-fad4fc87951b\" class=\"colab-df-container\">\n",
              "    <div>\n",
              "<style scoped>\n",
              "    .dataframe tbody tr th:only-of-type {\n",
              "        vertical-align: middle;\n",
              "    }\n",
              "\n",
              "    .dataframe tbody tr th {\n",
              "        vertical-align: top;\n",
              "    }\n",
              "\n",
              "    .dataframe thead th {\n",
              "        text-align: right;\n",
              "    }\n",
              "</style>\n",
              "<table border=\"1\" class=\"dataframe\">\n",
              "  <thead>\n",
              "    <tr style=\"text-align: right;\">\n",
              "      <th></th>\n",
              "      <th>am</th>\n",
              "      <th>cricket</th>\n",
              "      <th>for</th>\n",
              "      <th>going</th>\n",
              "      <th>hello</th>\n",
              "      <th>outside</th>\n",
              "      <th>playing</th>\n",
              "      <th>world</th>\n",
              "    </tr>\n",
              "  </thead>\n",
              "  <tbody>\n",
              "    <tr>\n",
              "      <th>0</th>\n",
              "      <td>0.353553</td>\n",
              "      <td>0.353553</td>\n",
              "      <td>0.353553</td>\n",
              "      <td>0.353553</td>\n",
              "      <td>0.353553</td>\n",
              "      <td>0.353553</td>\n",
              "      <td>0.353553</td>\n",
              "      <td>0.353553</td>\n",
              "    </tr>\n",
              "  </tbody>\n",
              "</table>\n",
              "</div>\n",
              "    <div class=\"colab-df-buttons\">\n",
              "\n",
              "  <div class=\"colab-df-container\">\n",
              "    <button class=\"colab-df-convert\" onclick=\"convertToInteractive('df-4a625037-c9ae-438f-8018-fad4fc87951b')\"\n",
              "            title=\"Convert this dataframe to an interactive table.\"\n",
              "            style=\"display:none;\">\n",
              "\n",
              "  <svg xmlns=\"http://www.w3.org/2000/svg\" height=\"24px\" viewBox=\"0 -960 960 960\">\n",
              "    <path d=\"M120-120v-720h720v720H120Zm60-500h600v-160H180v160Zm220 220h160v-160H400v160Zm0 220h160v-160H400v160ZM180-400h160v-160H180v160Zm440 0h160v-160H620v160ZM180-180h160v-160H180v160Zm440 0h160v-160H620v160Z\"/>\n",
              "  </svg>\n",
              "    </button>\n",
              "\n",
              "  <style>\n",
              "    .colab-df-container {\n",
              "      display:flex;\n",
              "      gap: 12px;\n",
              "    }\n",
              "\n",
              "    .colab-df-convert {\n",
              "      background-color: #E8F0FE;\n",
              "      border: none;\n",
              "      border-radius: 50%;\n",
              "      cursor: pointer;\n",
              "      display: none;\n",
              "      fill: #1967D2;\n",
              "      height: 32px;\n",
              "      padding: 0 0 0 0;\n",
              "      width: 32px;\n",
              "    }\n",
              "\n",
              "    .colab-df-convert:hover {\n",
              "      background-color: #E2EBFA;\n",
              "      box-shadow: 0px 1px 2px rgba(60, 64, 67, 0.3), 0px 1px 3px 1px rgba(60, 64, 67, 0.15);\n",
              "      fill: #174EA6;\n",
              "    }\n",
              "\n",
              "    .colab-df-buttons div {\n",
              "      margin-bottom: 4px;\n",
              "    }\n",
              "\n",
              "    [theme=dark] .colab-df-convert {\n",
              "      background-color: #3B4455;\n",
              "      fill: #D2E3FC;\n",
              "    }\n",
              "\n",
              "    [theme=dark] .colab-df-convert:hover {\n",
              "      background-color: #434B5C;\n",
              "      box-shadow: 0px 1px 3px 1px rgba(0, 0, 0, 0.15);\n",
              "      filter: drop-shadow(0px 1px 2px rgba(0, 0, 0, 0.3));\n",
              "      fill: #FFFFFF;\n",
              "    }\n",
              "  </style>\n",
              "\n",
              "    <script>\n",
              "      const buttonEl =\n",
              "        document.querySelector('#df-4a625037-c9ae-438f-8018-fad4fc87951b button.colab-df-convert');\n",
              "      buttonEl.style.display =\n",
              "        google.colab.kernel.accessAllowed ? 'block' : 'none';\n",
              "\n",
              "      async function convertToInteractive(key) {\n",
              "        const element = document.querySelector('#df-4a625037-c9ae-438f-8018-fad4fc87951b');\n",
              "        const dataTable =\n",
              "          await google.colab.kernel.invokeFunction('convertToInteractive',\n",
              "                                                    [key], {});\n",
              "        if (!dataTable) return;\n",
              "\n",
              "        const docLinkHtml = 'Like what you see? Visit the ' +\n",
              "          '<a target=\"_blank\" href=https://colab.research.google.com/notebooks/data_table.ipynb>data table notebook</a>'\n",
              "          + ' to learn more about interactive tables.';\n",
              "        element.innerHTML = '';\n",
              "        dataTable['output_type'] = 'display_data';\n",
              "        await google.colab.output.renderOutput(dataTable, element);\n",
              "        const docLink = document.createElement('div');\n",
              "        docLink.innerHTML = docLinkHtml;\n",
              "        element.appendChild(docLink);\n",
              "      }\n",
              "    </script>\n",
              "  </div>\n",
              "\n",
              "\n",
              "  <div id=\"id_e9318f01-9344-491e-9337-cd56b9335b5c\">\n",
              "    <style>\n",
              "      .colab-df-generate {\n",
              "        background-color: #E8F0FE;\n",
              "        border: none;\n",
              "        border-radius: 50%;\n",
              "        cursor: pointer;\n",
              "        display: none;\n",
              "        fill: #1967D2;\n",
              "        height: 32px;\n",
              "        padding: 0 0 0 0;\n",
              "        width: 32px;\n",
              "      }\n",
              "\n",
              "      .colab-df-generate:hover {\n",
              "        background-color: #E2EBFA;\n",
              "        box-shadow: 0px 1px 2px rgba(60, 64, 67, 0.3), 0px 1px 3px 1px rgba(60, 64, 67, 0.15);\n",
              "        fill: #174EA6;\n",
              "      }\n",
              "\n",
              "      [theme=dark] .colab-df-generate {\n",
              "        background-color: #3B4455;\n",
              "        fill: #D2E3FC;\n",
              "      }\n",
              "\n",
              "      [theme=dark] .colab-df-generate:hover {\n",
              "        background-color: #434B5C;\n",
              "        box-shadow: 0px 1px 3px 1px rgba(0, 0, 0, 0.15);\n",
              "        filter: drop-shadow(0px 1px 2px rgba(0, 0, 0, 0.3));\n",
              "        fill: #FFFFFF;\n",
              "      }\n",
              "    </style>\n",
              "    <button class=\"colab-df-generate\" onclick=\"generateWithVariable('matrix')\"\n",
              "            title=\"Generate code using this dataframe.\"\n",
              "            style=\"display:none;\">\n",
              "\n",
              "  <svg xmlns=\"http://www.w3.org/2000/svg\" height=\"24px\"viewBox=\"0 0 24 24\"\n",
              "       width=\"24px\">\n",
              "    <path d=\"M7,19H8.4L18.45,9,17,7.55,7,17.6ZM5,21V16.75L18.45,3.32a2,2,0,0,1,2.83,0l1.4,1.43a1.91,1.91,0,0,1,.58,1.4,1.91,1.91,0,0,1-.58,1.4L9.25,21ZM18.45,9,17,7.55Zm-12,3A5.31,5.31,0,0,0,4.9,8.1,5.31,5.31,0,0,0,1,6.5,5.31,5.31,0,0,0,4.9,4.9,5.31,5.31,0,0,0,6.5,1,5.31,5.31,0,0,0,8.1,4.9,5.31,5.31,0,0,0,12,6.5,5.46,5.46,0,0,0,6.5,12Z\"/>\n",
              "  </svg>\n",
              "    </button>\n",
              "    <script>\n",
              "      (() => {\n",
              "      const buttonEl =\n",
              "        document.querySelector('#id_e9318f01-9344-491e-9337-cd56b9335b5c button.colab-df-generate');\n",
              "      buttonEl.style.display =\n",
              "        google.colab.kernel.accessAllowed ? 'block' : 'none';\n",
              "\n",
              "      buttonEl.onclick = () => {\n",
              "        google.colab.notebook.generateWithVariable('matrix');\n",
              "      }\n",
              "      })();\n",
              "    </script>\n",
              "  </div>\n",
              "\n",
              "    </div>\n",
              "  </div>\n"
            ],
            "application/vnd.google.colaboratory.intrinsic+json": {
              "type": "dataframe",
              "variable_name": "matrix",
              "summary": "{\n  \"name\": \"matrix\",\n  \"rows\": 1,\n  \"fields\": [\n    {\n      \"column\": \"am\",\n      \"properties\": {\n        \"dtype\": \"number\",\n        \"std\": null,\n        \"min\": 0.35355339059327373,\n        \"max\": 0.35355339059327373,\n        \"num_unique_values\": 1,\n        \"samples\": [\n          0.35355339059327373\n        ],\n        \"semantic_type\": \"\",\n        \"description\": \"\"\n      }\n    },\n    {\n      \"column\": \"cricket\",\n      \"properties\": {\n        \"dtype\": \"number\",\n        \"std\": null,\n        \"min\": 0.35355339059327373,\n        \"max\": 0.35355339059327373,\n        \"num_unique_values\": 1,\n        \"samples\": [\n          0.35355339059327373\n        ],\n        \"semantic_type\": \"\",\n        \"description\": \"\"\n      }\n    },\n    {\n      \"column\": \"for\",\n      \"properties\": {\n        \"dtype\": \"number\",\n        \"std\": null,\n        \"min\": 0.35355339059327373,\n        \"max\": 0.35355339059327373,\n        \"num_unique_values\": 1,\n        \"samples\": [\n          0.35355339059327373\n        ],\n        \"semantic_type\": \"\",\n        \"description\": \"\"\n      }\n    },\n    {\n      \"column\": \"going\",\n      \"properties\": {\n        \"dtype\": \"number\",\n        \"std\": null,\n        \"min\": 0.35355339059327373,\n        \"max\": 0.35355339059327373,\n        \"num_unique_values\": 1,\n        \"samples\": [\n          0.35355339059327373\n        ],\n        \"semantic_type\": \"\",\n        \"description\": \"\"\n      }\n    },\n    {\n      \"column\": \"hello\",\n      \"properties\": {\n        \"dtype\": \"number\",\n        \"std\": null,\n        \"min\": 0.35355339059327373,\n        \"max\": 0.35355339059327373,\n        \"num_unique_values\": 1,\n        \"samples\": [\n          0.35355339059327373\n        ],\n        \"semantic_type\": \"\",\n        \"description\": \"\"\n      }\n    },\n    {\n      \"column\": \"outside\",\n      \"properties\": {\n        \"dtype\": \"number\",\n        \"std\": null,\n        \"min\": 0.35355339059327373,\n        \"max\": 0.35355339059327373,\n        \"num_unique_values\": 1,\n        \"samples\": [\n          0.35355339059327373\n        ],\n        \"semantic_type\": \"\",\n        \"description\": \"\"\n      }\n    },\n    {\n      \"column\": \"playing\",\n      \"properties\": {\n        \"dtype\": \"number\",\n        \"std\": null,\n        \"min\": 0.35355339059327373,\n        \"max\": 0.35355339059327373,\n        \"num_unique_values\": 1,\n        \"samples\": [\n          0.35355339059327373\n        ],\n        \"semantic_type\": \"\",\n        \"description\": \"\"\n      }\n    },\n    {\n      \"column\": \"world\",\n      \"properties\": {\n        \"dtype\": \"number\",\n        \"std\": null,\n        \"min\": 0.35355339059327373,\n        \"max\": 0.35355339059327373,\n        \"num_unique_values\": 1,\n        \"samples\": [\n          0.35355339059327373\n        ],\n        \"semantic_type\": \"\",\n        \"description\": \"\"\n      }\n    }\n  ]\n}"
            }
          },
          "metadata": {},
          "execution_count": 24
        }
      ]
    },
    {
      "cell_type": "code",
      "source": [
        "# Implement WOrdNet and Word Sense Disambiguation\n",
        "import nltk\n",
        "nltk.download('wordnet')\n",
        "from nltk.tokenize import word_tokenize\n",
        "from nltk.wsd import lesk\n",
        "a1 = lesk(word_tokenize(\"There is a Traffic Jam\"), \"jam\")\n",
        "a2 = lesk(word_tokenize(\"This is a Network delay due to Network Jam\"), 'jam')\n",
        "print(a1, a1.definition())\n",
        "print(a2, a2.definition())\n",
        "from nltk.corpus import wordnet\n",
        "print(wordnet.synsets('jam'))\n",
        "synsets = wordnet.synsets('Hello')\n",
        "for synset in synsets:\n",
        "  print(synset.definition())\n",
        "  print(synset.examples())\n",
        "  print(synset.name())\n",
        "  print(synset.pos())"
      ],
      "metadata": {
        "colab": {
          "base_uri": "https://localhost:8080/"
        },
        "id": "rAQu2ei6gbkn",
        "outputId": "6ddd8dc5-9cfb-4228-c962-91e32edd7cf6"
      },
      "execution_count": 29,
      "outputs": [
        {
          "output_type": "stream",
          "name": "stdout",
          "text": [
            "Synset('fix.n.01') informal terms for a difficult situation\n",
            "Synset('jam.v.06') crowd or pack to capacity\n",
            "[Synset('jam.n.01'), Synset('fix.n.01'), Synset('crush.n.02'), Synset('jamming.n.01'), Synset('throng.v.01'), Synset('jam.v.02'), Synset('jam.v.03'), Synset('jam.v.04'), Synset('jam.v.05'), Synset('jam.v.06'), Synset('obstruct.v.02')]\n",
            "an expression of greeting\n",
            "['every morning they exchanged polite hellos']\n",
            "hello.n.01\n",
            "n\n"
          ]
        },
        {
          "output_type": "stream",
          "name": "stderr",
          "text": [
            "[nltk_data] Downloading package wordnet to /root/nltk_data...\n",
            "[nltk_data]   Package wordnet is already up-to-date!\n"
          ]
        }
      ]
    },
    {
      "cell_type": "code",
      "source": [
        " !pip install hmmlearn\n",
        " import hmmlearn\n",
        " from hmmlearn import hmm\n",
        " import numpy as np\n",
        " from hmmlearn.hmm import CategoricalHMM\n",
        " import seaborn as sns\n",
        " import matplotlib.pyplot as plt\n",
        " states = ['Sunny', 'Rainy']\n",
        " n_states = len(states)\n",
        " observations = ['Dry', 'wet']\n",
        " n_observations = len(observations)\n",
        " start_probability = np.array([0.6, 0.4])\n",
        " trans_matrix = np.array([[0.7, 0.3],\n",
        "                         [0.3, 0.7]])\n",
        " emission_matrix = np.array([[0.9, 0.1],\n",
        "                            [0.2, 0.8]])\n",
        " model = hmm.CategoricalHMM(n_components=n_states)\n",
        " model.startprob_=start_probability\n",
        " model.transmat_=trans_matrix\n",
        " model.emissionprob_=emission_matrix\n",
        " observation_seq=np.array([0,1,0,1,0,0]).reshape(-1,1)\n",
        " observation_seq\n",
        " hidden_states = model.predict(observation_seq)\n",
        " print(hidden_states)\n",
        " logprob, hidden_states = model.decode(observation_seq,lengths=len(observation_seq), algorithm=\"viterbi\")\n",
        " sns.set_style('whitegrid')\n",
        " plt.plot(hidden_states, marker='o', label=\"Hidden States\")\n",
        " plt.xlabel('Time step')\n",
        " plt.ylabel('Most likely hidden states')\n",
        " plt.title(\"Sunny or Rainy\")\n",
        " plt.legend()\n",
        " plt.show()"
      ],
      "metadata": {
        "colab": {
          "base_uri": "https://localhost:8080/",
          "height": 680
        },
        "id": "9OsIh3QQhjVy",
        "outputId": "2464dcb0-c0bf-4242-b23b-76e684a781e8"
      },
      "execution_count": 30,
      "outputs": [
        {
          "output_type": "stream",
          "name": "stdout",
          "text": [
            "Collecting hmmlearn\n",
            "  Downloading hmmlearn-0.3.3-cp311-cp311-manylinux_2_17_x86_64.manylinux2014_x86_64.whl.metadata (3.0 kB)\n",
            "Requirement already satisfied: numpy>=1.10 in /usr/local/lib/python3.11/dist-packages (from hmmlearn) (2.0.2)\n",
            "Requirement already satisfied: scikit-learn!=0.22.0,>=0.16 in /usr/local/lib/python3.11/dist-packages (from hmmlearn) (1.6.1)\n",
            "Requirement already satisfied: scipy>=0.19 in /usr/local/lib/python3.11/dist-packages (from hmmlearn) (1.14.1)\n",
            "Requirement already satisfied: joblib>=1.2.0 in /usr/local/lib/python3.11/dist-packages (from scikit-learn!=0.22.0,>=0.16->hmmlearn) (1.4.2)\n",
            "Requirement already satisfied: threadpoolctl>=3.1.0 in /usr/local/lib/python3.11/dist-packages (from scikit-learn!=0.22.0,>=0.16->hmmlearn) (3.6.0)\n",
            "Downloading hmmlearn-0.3.3-cp311-cp311-manylinux_2_17_x86_64.manylinux2014_x86_64.whl (165 kB)\n",
            "\u001b[2K   \u001b[90m━━━━━━━━━━━━━━━━━━━━━━━━━━━━━━━━━━━━━━━━\u001b[0m \u001b[32m165.9/165.9 kB\u001b[0m \u001b[31m3.0 MB/s\u001b[0m eta \u001b[36m0:00:00\u001b[0m\n",
            "\u001b[?25hInstalling collected packages: hmmlearn\n",
            "Successfully installed hmmlearn-0.3.3\n",
            "[0 1 1 1 0 0]\n"
          ]
        },
        {
          "output_type": "display_data",
          "data": {
            "text/plain": [
              "<Figure size 640x480 with 1 Axes>"
            ],
            "image/png": "[encoded data removed]"
          },
          "metadata": {}
        }
      ]
    },
    {
      "cell_type": "code",
      "source": [
        "def viterbi(obs, states, start_p, trans_p, emit_p):\n",
        "    V = [{}]\n",
        "    for st in states:\n",
        "        V[0][st] = {\"prob\": start_p[st] * emit_p[st][obs[0]], \"prev\": None}\n",
        "    for t in range(1, len(obs)):\n",
        "        V.append({})\n",
        "        for st in states:\n",
        "            max_tr_prob = max(\n",
        "                V[t - 1][prev_st][\"prob\"] * trans_p[prev_st][st] for prev_st in states\n",
        "            )\n",
        "            for prev_st in states:\n",
        "                if V[t - 1][prev_st][\"prob\"] * trans_p[prev_st][st] == max_tr_prob:\n",
        "                    max_prob = max_tr_prob * emit_p[st][obs[t]]\n",
        "                    V[t][st] = {\"prob\": max_prob, \"prev\": prev_st}\n",
        "                    break\n",
        "    return V\n",
        "states = (\"Rainy\", \"Sunny\")\n",
        "observations = (\"walk\", \"shop\", \"clean\")\n",
        "start_prob = {\"Rainy\": 0.6, \"Sunny\":0.4}\n",
        "transition_prob={'Rainy':{'Rainy':0.7,'Sunny':0.3},'Sunny':{'Rainy':0.4,'Sunny':0.6}}\n",
        "emission_prob={'Rainy':{'walk':0.1,'shop':0.4,'clean':0.5},'Sunny':{'walk':0.6,'shop':0.3,'clean':0.1}}\n",
        "viterbi(observations,states,start_prob,transition_prob,emission_prob)"
      ],
      "metadata": {
        "colab": {
          "base_uri": "https://localhost:8080/"
        },
        "id": "vXJEGW1KieZZ",
        "outputId": "d22e2a24-7526-42ad-eb43-d140d02888ca"
      },
      "execution_count": 33,
      "outputs": [
        {
          "output_type": "execute_result",
          "data": {
            "text/plain": [
              "[{'Rainy': {'prob': 0.06, 'prev': None},\n",
              "  'Sunny': {'prob': 0.24, 'prev': None}},\n",
              " {'Rainy': {'prob': 0.038400000000000004, 'prev': 'Sunny'},\n",
              "  'Sunny': {'prob': 0.043199999999999995, 'prev': 'Sunny'}},\n",
              " {'Rainy': {'prob': 0.01344, 'prev': 'Rainy'},\n",
              "  'Sunny': {'prob': 0.0025919999999999997, 'prev': 'Sunny'}}]"
            ]
          },
          "metadata": {},
          "execution_count": 33
        }
      ]
    },
    {
      "cell_type": "code",
      "source": [
        "!pip install googletrans==4.0.0-rc1\n",
        "from googletrans import Translator\n",
        "def translate_text(text, src_language, target_language):\n",
        "    translator = Translator()\n",
        "    translation = translator.translate(text, dest=target_language, src=src_language)\n",
        "    return translation.text\n",
        "text = \"Hello, how are you?\"\n",
        "src_language = \"en\"\n",
        "target_language = \"es\"\n",
        "translated_text = translate_text(text, src_language, target_language)\n",
        "print(translated_text)"
      ],
      "metadata": {
        "colab": {
          "base_uri": "https://localhost:8080/"
        },
        "id": "vkUkP7Xyjkv2",
        "outputId": "f3443804-521e-4ca0-bedc-b75c5e7aeec8"
      },
      "execution_count": 1,
      "outputs": [
        {
          "output_type": "stream",
          "name": "stdout",
          "text": [
            "Requirement already satisfied: googletrans==4.0.0-rc1 in /usr/local/lib/python3.11/dist-packages (4.0.0rc1)\n",
            "Requirement already satisfied: httpx==0.13.3 in /usr/local/lib/python3.11/dist-packages (from googletrans==4.0.0-rc1) (0.13.3)\n",
            "Requirement already satisfied: certifi in /usr/local/lib/python3.11/dist-packages (from httpx==0.13.3->googletrans==4.0.0-rc1) (2025.1.31)\n",
            "Requirement already satisfied: hstspreload in /usr/local/lib/python3.11/dist-packages (from httpx==0.13.3->googletrans==4.0.0-rc1) (2025.1.1)\n",
            "Requirement already satisfied: sniffio in /usr/local/lib/python3.11/dist-packages (from httpx==0.13.3->googletrans==4.0.0-rc1) (1.3.1)\n",
            "Requirement already satisfied: chardet==3.* in /usr/local/lib/python3.11/dist-packages (from httpx==0.13.3->googletrans==4.0.0-rc1) (3.0.4)\n",
            "Requirement already satisfied: idna==2.* in /usr/local/lib/python3.11/dist-packages (from httpx==0.13.3->googletrans==4.0.0-rc1) (2.10)\n",
            "Requirement already satisfied: rfc3986<2,>=1.3 in /usr/local/lib/python3.11/dist-packages (from httpx==0.13.3->googletrans==4.0.0-rc1) (1.5.0)\n",
            "Requirement already satisfied: httpcore==0.9.* in /usr/local/lib/python3.11/dist-packages (from httpx==0.13.3->googletrans==4.0.0-rc1) (0.9.1)\n",
            "Requirement already satisfied: h11<0.10,>=0.8 in /usr/local/lib/python3.11/dist-packages (from httpcore==0.9.*->httpx==0.13.3->googletrans==4.0.0-rc1) (0.9.0)\n",
            "Requirement already satisfied: h2==3.* in /usr/local/lib/python3.11/dist-packages (from httpcore==0.9.*->httpx==0.13.3->googletrans==4.0.0-rc1) (3.2.0)\n",
            "Requirement already satisfied: hyperframe<6,>=5.2.0 in /usr/local/lib/python3.11/dist-packages (from h2==3.*->httpcore==0.9.*->httpx==0.13.3->googletrans==4.0.0-rc1) (5.2.0)\n",
            "Requirement already satisfied: hpack<4,>=3.0 in /usr/local/lib/python3.11/dist-packages (from h2==3.*->httpcore==0.9.*->httpx==0.13.3->googletrans==4.0.0-rc1) (3.0.0)\n",
            "¿Hola, cómo estás?\n"
          ]
        }
      ]
    },
    {
      "cell_type": "code",
      "source": [],
      "metadata": {
        "id": "vvSyAHRKi20Q"
      },
      "execution_count": null,
      "outputs": []
    }
  ]
}